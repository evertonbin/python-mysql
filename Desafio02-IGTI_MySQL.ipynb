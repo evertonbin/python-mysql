{
 "cells": [
  {
   "cell_type": "markdown",
   "metadata": {},
   "source": [
    "<h1>Coleta e Transformação de Dados de API</h1>\n",
    "Éverton Bin | Desafio 2 - Bootcamp Cientista de Dados IGTI"
   ]
  },
  {
   "cell_type": "code",
   "execution_count": 1,
   "metadata": {},
   "outputs": [],
   "source": [
    "# Importando pacotes:\n",
    "import json\n",
    "import requests\n",
    "import pandas as pd\n",
    "import numpy as np\n",
    "import datetime as dt\n",
    "import warnings\n",
    "warnings.filterwarnings('ignore')"
   ]
  },
  {
   "cell_type": "code",
   "execution_count": 2,
   "metadata": {},
   "outputs": [],
   "source": [
    "# Conectando com a API:\n",
    "response = requests.get('https://api-coleta-dados.herokuapp.com/api/pessoas')"
   ]
  },
  {
   "cell_type": "code",
   "execution_count": 3,
   "metadata": {},
   "outputs": [
    {
     "data": {
      "text/plain": [
       "200"
      ]
     },
     "execution_count": 3,
     "metadata": {},
     "output_type": "execute_result"
    }
   ],
   "source": [
    "# Verificando se a conexão encontrou a página:\n",
    "response.status_code"
   ]
  },
  {
   "cell_type": "code",
   "execution_count": 4,
   "metadata": {},
   "outputs": [],
   "source": [
    "# Salvando o conteúdo em um objeto 'json':\n",
    "api_content = json.loads(response.content)"
   ]
  },
  {
   "cell_type": "code",
   "execution_count": 5,
   "metadata": {},
   "outputs": [
    {
     "data": {
      "text/plain": [
       "{'nome': 'Silvana Hadassa',\n",
       " 'idade': None,\n",
       " 'data_nasc': '12/06/1964',\n",
       " 'sexo': 'Feminino',\n",
       " 'signo': 'Gêmeos',\n",
       " 'cidade': 'Brasília',\n",
       " 'estado': 'DF',\n",
       " 'altura': '1,67',\n",
       " 'peso': 50,\n",
       " 'tipo_sanguineo': 'A+',\n",
       " 'cor': 'vermelho'}"
      ]
     },
     "execution_count": 5,
     "metadata": {},
     "output_type": "execute_result"
    }
   ],
   "source": [
    "# Verificando as 'features' do primeiro registro:\n",
    "api_content[0]"
   ]
  },
  {
   "cell_type": "code",
   "execution_count": 6,
   "metadata": {},
   "outputs": [],
   "source": [
    "# Convertendo o objeto tipo json para um df do Pandas para fazer o tratamento de dados:\n",
    "content_df = pd.DataFrame.from_dict(api_content, orient = 'columns')"
   ]
  },
  {
   "cell_type": "code",
   "execution_count": 7,
   "metadata": {},
   "outputs": [
    {
     "data": {
      "text/html": [
       "<div>\n",
       "<style scoped>\n",
       "    .dataframe tbody tr th:only-of-type {\n",
       "        vertical-align: middle;\n",
       "    }\n",
       "\n",
       "    .dataframe tbody tr th {\n",
       "        vertical-align: top;\n",
       "    }\n",
       "\n",
       "    .dataframe thead th {\n",
       "        text-align: right;\n",
       "    }\n",
       "</style>\n",
       "<table border=\"1\" class=\"dataframe\">\n",
       "  <thead>\n",
       "    <tr style=\"text-align: right;\">\n",
       "      <th></th>\n",
       "      <th>nome</th>\n",
       "      <th>idade</th>\n",
       "      <th>data_nasc</th>\n",
       "      <th>sexo</th>\n",
       "      <th>signo</th>\n",
       "      <th>cidade</th>\n",
       "      <th>estado</th>\n",
       "      <th>altura</th>\n",
       "      <th>peso</th>\n",
       "      <th>tipo_sanguineo</th>\n",
       "      <th>cor</th>\n",
       "    </tr>\n",
       "  </thead>\n",
       "  <tbody>\n",
       "    <tr>\n",
       "      <th>0</th>\n",
       "      <td>Silvana Hadassa</td>\n",
       "      <td>NaN</td>\n",
       "      <td>12/06/1964</td>\n",
       "      <td>Feminino</td>\n",
       "      <td>Gêmeos</td>\n",
       "      <td>Brasília</td>\n",
       "      <td>DF</td>\n",
       "      <td>1,67</td>\n",
       "      <td>50</td>\n",
       "      <td>A+</td>\n",
       "      <td>vermelho</td>\n",
       "    </tr>\n",
       "    <tr>\n",
       "      <th>1</th>\n",
       "      <td>Thales Kaique</td>\n",
       "      <td>27.0</td>\n",
       "      <td>10/12/1993</td>\n",
       "      <td>Masculino</td>\n",
       "      <td>Sagitário</td>\n",
       "      <td>Campo Grande</td>\n",
       "      <td>MS</td>\n",
       "      <td>1,63</td>\n",
       "      <td>110</td>\n",
       "      <td>B+</td>\n",
       "      <td>laranja</td>\n",
       "    </tr>\n",
       "    <tr>\n",
       "      <th>2</th>\n",
       "      <td>Henry Nathan</td>\n",
       "      <td>29.0</td>\n",
       "      <td>21/09/1991</td>\n",
       "      <td>Masculino</td>\n",
       "      <td>Virgem</td>\n",
       "      <td>Macapá</td>\n",
       "      <td>AP</td>\n",
       "      <td>1,86</td>\n",
       "      <td>106</td>\n",
       "      <td>AB-</td>\n",
       "      <td>verde</td>\n",
       "    </tr>\n",
       "    <tr>\n",
       "      <th>3</th>\n",
       "      <td>Lorenzo Vinicius</td>\n",
       "      <td>64.0</td>\n",
       "      <td>22/10/1956</td>\n",
       "      <td>Masculino</td>\n",
       "      <td>Libra</td>\n",
       "      <td>Contagem</td>\n",
       "      <td>MG</td>\n",
       "      <td>1,87</td>\n",
       "      <td>100</td>\n",
       "      <td>O+</td>\n",
       "      <td>vermelho</td>\n",
       "    </tr>\n",
       "    <tr>\n",
       "      <th>4</th>\n",
       "      <td>Cauã Henrique</td>\n",
       "      <td>50.0</td>\n",
       "      <td>09/03</td>\n",
       "      <td>Masculino</td>\n",
       "      <td>Peixes</td>\n",
       "      <td>Rondonópolis</td>\n",
       "      <td>MT</td>\n",
       "      <td>1,74</td>\n",
       "      <td>83</td>\n",
       "      <td>O-</td>\n",
       "      <td>vermelho</td>\n",
       "    </tr>\n",
       "  </tbody>\n",
       "</table>\n",
       "</div>"
      ],
      "text/plain": [
       "               nome  idade   data_nasc       sexo      signo        cidade  \\\n",
       "0   Silvana Hadassa    NaN  12/06/1964   Feminino     Gêmeos      Brasília   \n",
       "1     Thales Kaique   27.0  10/12/1993  Masculino  Sagitário  Campo Grande   \n",
       "2      Henry Nathan   29.0  21/09/1991  Masculino     Virgem        Macapá   \n",
       "3  Lorenzo Vinicius   64.0  22/10/1956  Masculino      Libra      Contagem   \n",
       "4     Cauã Henrique   50.0       09/03  Masculino     Peixes  Rondonópolis   \n",
       "\n",
       "  estado altura  peso tipo_sanguineo       cor  \n",
       "0     DF   1,67    50             A+  vermelho  \n",
       "1     MS   1,63   110             B+   laranja  \n",
       "2     AP   1,86   106            AB-     verde  \n",
       "3     MG   1,87   100             O+  vermelho  \n",
       "4     MT   1,74    83             O-  vermelho  "
      ]
     },
     "execution_count": 7,
     "metadata": {},
     "output_type": "execute_result"
    }
   ],
   "source": [
    "# Verificando os primeiros registros do df:\n",
    "content_df.head()"
   ]
  },
  {
   "cell_type": "code",
   "execution_count": 8,
   "metadata": {},
   "outputs": [
    {
     "data": {
      "text/plain": [
       "nome               object\n",
       "idade             float64\n",
       "data_nasc          object\n",
       "sexo               object\n",
       "signo              object\n",
       "cidade             object\n",
       "estado             object\n",
       "altura             object\n",
       "peso                int64\n",
       "tipo_sanguineo     object\n",
       "cor                object\n",
       "dtype: object"
      ]
     },
     "execution_count": 8,
     "metadata": {},
     "output_type": "execute_result"
    }
   ],
   "source": [
    "# Verificando o tipo dos dados:\n",
    "content_df.dtypes"
   ]
  },
  {
   "cell_type": "code",
   "execution_count": 9,
   "metadata": {},
   "outputs": [],
   "source": [
    "# Atualizando as datas de nascimento sem ano declarado através das idades:\n",
    "for i in range(0, len(content_df)):\n",
    "    if len(content_df.data_nasc[i]) != 10:\n",
    "        content_df.data_nasc[i] = content_df.data_nasc[i]+str(int(content_df.idade[i])-2020)"
   ]
  },
  {
   "cell_type": "code",
   "execution_count": 10,
   "metadata": {},
   "outputs": [],
   "source": [
    "# Convertendo a coluna 'data_nasc' para o tipo data:\n",
    "content_df['data_nasc'] = pd.to_datetime(content_df['data_nasc'], infer_datetime_format=True)"
   ]
  },
  {
   "cell_type": "code",
   "execution_count": 11,
   "metadata": {},
   "outputs": [],
   "source": [
    "# Atualizando as idades pela data de nascimento (referência 31 de dezembro de 2020):\n",
    "for i in range(0, len(content_df)):\n",
    "    content_df.idade[i] = int(int(str(pd.Timestamp('2020-12-31') - content_df.data_nasc[i]).split(' ')[0])/365.2425)"
   ]
  },
  {
   "cell_type": "code",
   "execution_count": 12,
   "metadata": {},
   "outputs": [],
   "source": [
    "# Transformando a data de nascimento para o tipo string:\n",
    "content_df['data_nasc'] = content_df['data_nasc'].dt.strftime('%Y-%m-%d')"
   ]
  },
  {
   "cell_type": "code",
   "execution_count": 13,
   "metadata": {},
   "outputs": [
    {
     "data": {
      "text/html": [
       "<div>\n",
       "<style scoped>\n",
       "    .dataframe tbody tr th:only-of-type {\n",
       "        vertical-align: middle;\n",
       "    }\n",
       "\n",
       "    .dataframe tbody tr th {\n",
       "        vertical-align: top;\n",
       "    }\n",
       "\n",
       "    .dataframe thead th {\n",
       "        text-align: right;\n",
       "    }\n",
       "</style>\n",
       "<table border=\"1\" class=\"dataframe\">\n",
       "  <thead>\n",
       "    <tr style=\"text-align: right;\">\n",
       "      <th></th>\n",
       "      <th>nome</th>\n",
       "      <th>idade</th>\n",
       "      <th>data_nasc</th>\n",
       "      <th>sexo</th>\n",
       "      <th>signo</th>\n",
       "      <th>cidade</th>\n",
       "      <th>estado</th>\n",
       "      <th>altura</th>\n",
       "      <th>peso</th>\n",
       "      <th>tipo_sanguineo</th>\n",
       "      <th>cor</th>\n",
       "    </tr>\n",
       "  </thead>\n",
       "  <tbody>\n",
       "    <tr>\n",
       "      <th>0</th>\n",
       "      <td>Silvana Hadassa</td>\n",
       "      <td>56.0</td>\n",
       "      <td>1964-12-06</td>\n",
       "      <td>Feminino</td>\n",
       "      <td>Gêmeos</td>\n",
       "      <td>Brasília</td>\n",
       "      <td>DF</td>\n",
       "      <td>1,67</td>\n",
       "      <td>50</td>\n",
       "      <td>A+</td>\n",
       "      <td>vermelho</td>\n",
       "    </tr>\n",
       "    <tr>\n",
       "      <th>1</th>\n",
       "      <td>Thales Kaique</td>\n",
       "      <td>27.0</td>\n",
       "      <td>1993-10-12</td>\n",
       "      <td>Masculino</td>\n",
       "      <td>Sagitário</td>\n",
       "      <td>Campo Grande</td>\n",
       "      <td>MS</td>\n",
       "      <td>1,63</td>\n",
       "      <td>110</td>\n",
       "      <td>B+</td>\n",
       "      <td>laranja</td>\n",
       "    </tr>\n",
       "    <tr>\n",
       "      <th>2</th>\n",
       "      <td>Henry Nathan</td>\n",
       "      <td>29.0</td>\n",
       "      <td>1991-09-21</td>\n",
       "      <td>Masculino</td>\n",
       "      <td>Virgem</td>\n",
       "      <td>Macapá</td>\n",
       "      <td>AP</td>\n",
       "      <td>1,86</td>\n",
       "      <td>106</td>\n",
       "      <td>AB-</td>\n",
       "      <td>verde</td>\n",
       "    </tr>\n",
       "    <tr>\n",
       "      <th>3</th>\n",
       "      <td>Lorenzo Vinicius</td>\n",
       "      <td>64.0</td>\n",
       "      <td>1956-10-22</td>\n",
       "      <td>Masculino</td>\n",
       "      <td>Libra</td>\n",
       "      <td>Contagem</td>\n",
       "      <td>MG</td>\n",
       "      <td>1,87</td>\n",
       "      <td>100</td>\n",
       "      <td>O+</td>\n",
       "      <td>vermelho</td>\n",
       "    </tr>\n",
       "    <tr>\n",
       "      <th>4</th>\n",
       "      <td>Cauã Henrique</td>\n",
       "      <td>50.0</td>\n",
       "      <td>1970-09-03</td>\n",
       "      <td>Masculino</td>\n",
       "      <td>Peixes</td>\n",
       "      <td>Rondonópolis</td>\n",
       "      <td>MT</td>\n",
       "      <td>1,74</td>\n",
       "      <td>83</td>\n",
       "      <td>O-</td>\n",
       "      <td>vermelho</td>\n",
       "    </tr>\n",
       "  </tbody>\n",
       "</table>\n",
       "</div>"
      ],
      "text/plain": [
       "               nome  idade   data_nasc       sexo      signo        cidade  \\\n",
       "0   Silvana Hadassa   56.0  1964-12-06   Feminino     Gêmeos      Brasília   \n",
       "1     Thales Kaique   27.0  1993-10-12  Masculino  Sagitário  Campo Grande   \n",
       "2      Henry Nathan   29.0  1991-09-21  Masculino     Virgem        Macapá   \n",
       "3  Lorenzo Vinicius   64.0  1956-10-22  Masculino      Libra      Contagem   \n",
       "4     Cauã Henrique   50.0  1970-09-03  Masculino     Peixes  Rondonópolis   \n",
       "\n",
       "  estado altura  peso tipo_sanguineo       cor  \n",
       "0     DF   1,67    50             A+  vermelho  \n",
       "1     MS   1,63   110             B+   laranja  \n",
       "2     AP   1,86   106            AB-     verde  \n",
       "3     MG   1,87   100             O+  vermelho  \n",
       "4     MT   1,74    83             O-  vermelho  "
      ]
     },
     "execution_count": 13,
     "metadata": {},
     "output_type": "execute_result"
    }
   ],
   "source": [
    "content_df.head()"
   ]
  },
  {
   "cell_type": "markdown",
   "metadata": {},
   "source": [
    "<h1>Ingestão de Dados em DB MySQL</h1>"
   ]
  },
  {
   "cell_type": "markdown",
   "metadata": {},
   "source": [
    "<p>Para a ingestão de dados, será respeitado o esquema criado para o banco de dados representado pela imagem que segue:</p>\n",
    "<img src=\"der.png\" />"
   ]
  },
  {
   "cell_type": "code",
   "execution_count": 14,
   "metadata": {},
   "outputs": [],
   "source": [
    "# Criando variáveis numéricas que servirão de código id:\n",
    "# Variável cor:\n",
    "cor_array = content_df.cor.unique()\n",
    "content_df['cor_id'] = 0\n",
    "for i_cor in range(0, len(cor_array)):\n",
    "    for i in range(0, len(content_df)):\n",
    "        if content_df.cor[i] == cor_array[i_cor]:\n",
    "            content_df.cor_id[i] = i_cor         "
   ]
  },
  {
   "cell_type": "code",
   "execution_count": 15,
   "metadata": {},
   "outputs": [],
   "source": [
    "# Variável tiposanguineo:\n",
    "tsang_array = content_df.tipo_sanguineo.unique()\n",
    "content_df['tipo_sanguineo_id'] = 0\n",
    "for i_tsang in range(0, len(tsang_array)):\n",
    "    for i in range(0, len(content_df)):\n",
    "        if content_df.tipo_sanguineo[i] == tsang_array[i_tsang]:\n",
    "            content_df.tipo_sanguineo_id[i] = i_tsang"
   ]
  },
  {
   "cell_type": "code",
   "execution_count": 16,
   "metadata": {},
   "outputs": [],
   "source": [
    "# Variável estado:\n",
    "estado_array = content_df.estado.unique()\n",
    "content_df['estado_id'] = 0\n",
    "for i_est in range(0, len(estado_array)):\n",
    "    for i in range(0, len(content_df)):\n",
    "        if content_df.estado[i] == estado_array[i_est]:\n",
    "            content_df.estado_id[i] = i_est"
   ]
  },
  {
   "cell_type": "code",
   "execution_count": 17,
   "metadata": {},
   "outputs": [],
   "source": [
    "# Variável cidade:\n",
    "cidade_array = content_df.cidade.unique()\n",
    "content_df['cidade_id'] = 0\n",
    "for i_cid in range(0, len(cidade_array)):\n",
    "    for i in range(0, len(content_df)):\n",
    "        if content_df.cidade[i] == cidade_array[i_cid]:\n",
    "            content_df.cidade_id[i] = i_cid "
   ]
  },
  {
   "cell_type": "code",
   "execution_count": 18,
   "metadata": {},
   "outputs": [
    {
     "data": {
      "text/html": [
       "<div>\n",
       "<style scoped>\n",
       "    .dataframe tbody tr th:only-of-type {\n",
       "        vertical-align: middle;\n",
       "    }\n",
       "\n",
       "    .dataframe tbody tr th {\n",
       "        vertical-align: top;\n",
       "    }\n",
       "\n",
       "    .dataframe thead th {\n",
       "        text-align: right;\n",
       "    }\n",
       "</style>\n",
       "<table border=\"1\" class=\"dataframe\">\n",
       "  <thead>\n",
       "    <tr style=\"text-align: right;\">\n",
       "      <th></th>\n",
       "      <th>nome</th>\n",
       "      <th>idade</th>\n",
       "      <th>data_nasc</th>\n",
       "      <th>sexo</th>\n",
       "      <th>signo</th>\n",
       "      <th>cidade</th>\n",
       "      <th>estado</th>\n",
       "      <th>altura</th>\n",
       "      <th>peso</th>\n",
       "      <th>tipo_sanguineo</th>\n",
       "      <th>cor</th>\n",
       "      <th>cor_id</th>\n",
       "      <th>tipo_sanguineo_id</th>\n",
       "      <th>estado_id</th>\n",
       "      <th>cidade_id</th>\n",
       "    </tr>\n",
       "  </thead>\n",
       "  <tbody>\n",
       "    <tr>\n",
       "      <th>0</th>\n",
       "      <td>Silvana Hadassa</td>\n",
       "      <td>56.0</td>\n",
       "      <td>1964-12-06</td>\n",
       "      <td>Feminino</td>\n",
       "      <td>Gêmeos</td>\n",
       "      <td>Brasília</td>\n",
       "      <td>DF</td>\n",
       "      <td>1,67</td>\n",
       "      <td>50</td>\n",
       "      <td>A+</td>\n",
       "      <td>vermelho</td>\n",
       "      <td>0</td>\n",
       "      <td>0</td>\n",
       "      <td>0</td>\n",
       "      <td>0</td>\n",
       "    </tr>\n",
       "    <tr>\n",
       "      <th>1</th>\n",
       "      <td>Thales Kaique</td>\n",
       "      <td>27.0</td>\n",
       "      <td>1993-10-12</td>\n",
       "      <td>Masculino</td>\n",
       "      <td>Sagitário</td>\n",
       "      <td>Campo Grande</td>\n",
       "      <td>MS</td>\n",
       "      <td>1,63</td>\n",
       "      <td>110</td>\n",
       "      <td>B+</td>\n",
       "      <td>laranja</td>\n",
       "      <td>1</td>\n",
       "      <td>1</td>\n",
       "      <td>1</td>\n",
       "      <td>1</td>\n",
       "    </tr>\n",
       "    <tr>\n",
       "      <th>2</th>\n",
       "      <td>Henry Nathan</td>\n",
       "      <td>29.0</td>\n",
       "      <td>1991-09-21</td>\n",
       "      <td>Masculino</td>\n",
       "      <td>Virgem</td>\n",
       "      <td>Macapá</td>\n",
       "      <td>AP</td>\n",
       "      <td>1,86</td>\n",
       "      <td>106</td>\n",
       "      <td>AB-</td>\n",
       "      <td>verde</td>\n",
       "      <td>2</td>\n",
       "      <td>2</td>\n",
       "      <td>2</td>\n",
       "      <td>2</td>\n",
       "    </tr>\n",
       "    <tr>\n",
       "      <th>3</th>\n",
       "      <td>Lorenzo Vinicius</td>\n",
       "      <td>64.0</td>\n",
       "      <td>1956-10-22</td>\n",
       "      <td>Masculino</td>\n",
       "      <td>Libra</td>\n",
       "      <td>Contagem</td>\n",
       "      <td>MG</td>\n",
       "      <td>1,87</td>\n",
       "      <td>100</td>\n",
       "      <td>O+</td>\n",
       "      <td>vermelho</td>\n",
       "      <td>0</td>\n",
       "      <td>3</td>\n",
       "      <td>3</td>\n",
       "      <td>3</td>\n",
       "    </tr>\n",
       "    <tr>\n",
       "      <th>4</th>\n",
       "      <td>Cauã Henrique</td>\n",
       "      <td>50.0</td>\n",
       "      <td>1970-09-03</td>\n",
       "      <td>Masculino</td>\n",
       "      <td>Peixes</td>\n",
       "      <td>Rondonópolis</td>\n",
       "      <td>MT</td>\n",
       "      <td>1,74</td>\n",
       "      <td>83</td>\n",
       "      <td>O-</td>\n",
       "      <td>vermelho</td>\n",
       "      <td>0</td>\n",
       "      <td>4</td>\n",
       "      <td>4</td>\n",
       "      <td>4</td>\n",
       "    </tr>\n",
       "  </tbody>\n",
       "</table>\n",
       "</div>"
      ],
      "text/plain": [
       "               nome  idade   data_nasc       sexo      signo        cidade  \\\n",
       "0   Silvana Hadassa   56.0  1964-12-06   Feminino     Gêmeos      Brasília   \n",
       "1     Thales Kaique   27.0  1993-10-12  Masculino  Sagitário  Campo Grande   \n",
       "2      Henry Nathan   29.0  1991-09-21  Masculino     Virgem        Macapá   \n",
       "3  Lorenzo Vinicius   64.0  1956-10-22  Masculino      Libra      Contagem   \n",
       "4     Cauã Henrique   50.0  1970-09-03  Masculino     Peixes  Rondonópolis   \n",
       "\n",
       "  estado altura  peso tipo_sanguineo       cor  cor_id  tipo_sanguineo_id  \\\n",
       "0     DF   1,67    50             A+  vermelho       0                  0   \n",
       "1     MS   1,63   110             B+   laranja       1                  1   \n",
       "2     AP   1,86   106            AB-     verde       2                  2   \n",
       "3     MG   1,87   100             O+  vermelho       0                  3   \n",
       "4     MT   1,74    83             O-  vermelho       0                  4   \n",
       "\n",
       "   estado_id  cidade_id  \n",
       "0          0          0  \n",
       "1          1          1  \n",
       "2          2          2  \n",
       "3          3          3  \n",
       "4          4          4  "
      ]
     },
     "execution_count": 18,
     "metadata": {},
     "output_type": "execute_result"
    }
   ],
   "source": [
    "content_df.head()"
   ]
  },
  {
   "cell_type": "code",
   "execution_count": 19,
   "metadata": {},
   "outputs": [],
   "source": [
    "# Importando pacote para conectar ao MySQL:\n",
    "import mysql.connector\n",
    "\n",
    "# Conectando ao db_desafio criado no MySQL:\n",
    "mydb = mysql.connector.connect(\n",
    "    host='localhost',\n",
    "    user='root',\n",
    "    password='xxxxxxxx',\n",
    "    database='db_desafio')\n",
    "\n",
    "# Criando o cursor:\n",
    "mycursor = mydb.cursor()"
   ]
  },
  {
   "cell_type": "code",
   "execution_count": 20,
   "metadata": {},
   "outputs": [
    {
     "name": "stdout",
     "output_type": "stream",
     "text": [
      "('tb_cidade',)\n",
      "('tb_cor',)\n",
      "('tb_estado',)\n",
      "('tb_pessoa',)\n",
      "('tb_tiposanguineo',)\n"
     ]
    }
   ],
   "source": [
    "# Verificando as tabelas criadas no banco de dados: \n",
    "mycursor.execute(\"SHOW TABLES\")\n",
    "\n",
    "for tables in mycursor:\n",
    "    print(tables)"
   ]
  },
  {
   "cell_type": "code",
   "execution_count": 21,
   "metadata": {},
   "outputs": [
    {
     "name": "stdout",
     "output_type": "stream",
     "text": [
      "(0, 'DF')\n",
      "(1, 'MS')\n",
      "(2, 'AP')\n",
      "(3, 'MG')\n",
      "(4, 'MT')\n",
      "(5, 'PE')\n",
      "(6, 'AC')\n",
      "(7, 'TO')\n",
      "(8, 'AM')\n",
      "(9, 'RO')\n",
      "(10, 'GO')\n",
      "(11, 'RS')\n",
      "(12, 'RR')\n",
      "(13, 'MA')\n",
      "(14, 'ES')\n",
      "(15, 'PI')\n",
      "(16, 'PR')\n",
      "(17, 'AL')\n",
      "(18, 'SE')\n",
      "(19, 'PA')\n",
      "(20, 'BA')\n",
      "(21, 'RJ')\n",
      "(22, 'PB')\n",
      "(23, 'SC')\n",
      "(24, 'CE')\n",
      "(25, 'RN')\n"
     ]
    }
   ],
   "source": [
    "# Inserindo dados da tabela estado:\n",
    "query_estado = \"INSERT INTO tb_estado (id, sigla) VALUES (%s, %s)\"\n",
    "estado_id_array = content_df.estado_id.unique()\n",
    "\n",
    "for i in range(0, len(estado_id_array)):\n",
    "    data_estado = (int(estado_id_array[i]), estado_array[i])\n",
    "    print(data_estado)\n",
    "    mycursor.execute(query_estado, data_estado)\n",
    "    \n",
    "mydb.commit()"
   ]
  },
  {
   "cell_type": "code",
   "execution_count": 22,
   "metadata": {},
   "outputs": [
    {
     "name": "stdout",
     "output_type": "stream",
     "text": [
      "(0, 'vermelho')\n",
      "(1, 'laranja')\n",
      "(2, 'verde')\n",
      "(3, 'preto')\n",
      "(4, 'roxo')\n",
      "(5, 'azul')\n",
      "(6, 'amarelo')\n"
     ]
    }
   ],
   "source": [
    "# Inserindo dados da tabela cor:\n",
    "query_cor = \"INSERT INTO tb_cor (id, cor) VALUES (%s, %s)\"\n",
    "cor_id_array = content_df.cor_id.unique()\n",
    "\n",
    "for i in range(0, len(cor_id_array)):\n",
    "    data_cor = (int(cor_id_array[i]), cor_array[i])\n",
    "    print(data_cor)\n",
    "    mycursor.execute(query_cor, data_cor)\n",
    "    \n",
    "mydb.commit()"
   ]
  },
  {
   "cell_type": "code",
   "execution_count": 23,
   "metadata": {},
   "outputs": [
    {
     "name": "stdout",
     "output_type": "stream",
     "text": [
      "(0, 'A+')\n",
      "(1, 'B+')\n",
      "(2, 'AB-')\n",
      "(3, 'O+')\n",
      "(4, 'O-')\n",
      "(5, 'AB+')\n",
      "(6, 'A-')\n",
      "(7, 'B-')\n"
     ]
    }
   ],
   "source": [
    "# Inserindo dados da tabela tipo_sanguineo:\n",
    "query_tsang = \"INSERT INTO tb_tiposanguineo (id, tipo) VALUES (%s, %s)\"\n",
    "tsang_id_array = content_df.tipo_sanguineo_id.unique()\n",
    "\n",
    "for i in range(0, len(tsang_id_array)):\n",
    "    data_tsang = (int(tsang_id_array[i]), tsang_array[i])\n",
    "    print(data_tsang)\n",
    "    mycursor.execute(query_tsang, data_tsang)\n",
    "    \n",
    "mydb.commit()"
   ]
  },
  {
   "cell_type": "code",
   "execution_count": 24,
   "metadata": {},
   "outputs": [
    {
     "data": {
      "text/html": [
       "<div>\n",
       "<style scoped>\n",
       "    .dataframe tbody tr th:only-of-type {\n",
       "        vertical-align: middle;\n",
       "    }\n",
       "\n",
       "    .dataframe tbody tr th {\n",
       "        vertical-align: top;\n",
       "    }\n",
       "\n",
       "    .dataframe thead th {\n",
       "        text-align: right;\n",
       "    }\n",
       "</style>\n",
       "<table border=\"1\" class=\"dataframe\">\n",
       "  <thead>\n",
       "    <tr style=\"text-align: right;\">\n",
       "      <th></th>\n",
       "      <th>cidade</th>\n",
       "      <th>cidade_id</th>\n",
       "    </tr>\n",
       "  </thead>\n",
       "  <tbody>\n",
       "    <tr>\n",
       "      <th>0</th>\n",
       "      <td>Brasília</td>\n",
       "      <td>0</td>\n",
       "    </tr>\n",
       "    <tr>\n",
       "      <th>1</th>\n",
       "      <td>Campo Grande</td>\n",
       "      <td>1</td>\n",
       "    </tr>\n",
       "    <tr>\n",
       "      <th>2</th>\n",
       "      <td>Macapá</td>\n",
       "      <td>2</td>\n",
       "    </tr>\n",
       "    <tr>\n",
       "      <th>3</th>\n",
       "      <td>Contagem</td>\n",
       "      <td>3</td>\n",
       "    </tr>\n",
       "    <tr>\n",
       "      <th>4</th>\n",
       "      <td>Rondonópolis</td>\n",
       "      <td>4</td>\n",
       "    </tr>\n",
       "  </tbody>\n",
       "</table>\n",
       "</div>"
      ],
      "text/plain": [
       "         cidade  cidade_id\n",
       "0      Brasília          0\n",
       "1  Campo Grande          1\n",
       "2        Macapá          2\n",
       "3      Contagem          3\n",
       "4  Rondonópolis          4"
      ]
     },
     "execution_count": 24,
     "metadata": {},
     "output_type": "execute_result"
    }
   ],
   "source": [
    "# Criando um df para as cidades com seus respectivos id:\n",
    "cidade_df = pd.DataFrame(cidade_array, columns = ['cidade'])\n",
    "cidade_df['cidade_id'] = content_df.cidade_id.unique()\n",
    "cidade_df.head()"
   ]
  },
  {
   "cell_type": "code",
   "execution_count": 25,
   "metadata": {},
   "outputs": [],
   "source": [
    "# Incluindo estado_id referente a cada uma das cidades:\n",
    "cidade_df['estado_id'] = 0\n",
    "for cid_i in range(0, len(cidade_df)):\n",
    "    ind = 0\n",
    "    while content_df.cidade.iloc[ind] != cidade_df.cidade.iloc[cid_i]:\n",
    "        ind += 1\n",
    "    else:\n",
    "        cidade_df.estado_id.iloc[cid_i] = content_df.estado_id.iloc[ind]"
   ]
  },
  {
   "cell_type": "code",
   "execution_count": 26,
   "metadata": {
    "scrolled": false
   },
   "outputs": [
    {
     "name": "stdout",
     "output_type": "stream",
     "text": [
      "(0, 'Brasília', 0)\n",
      "(1, 'Campo Grande', 1)\n",
      "(2, 'Macapá', 2)\n",
      "(3, 'Contagem', 3)\n",
      "(4, 'Rondonópolis', 4)\n",
      "(5, 'Olinda', 5)\n",
      "(6, 'Rio Branco', 6)\n",
      "(7, 'Araguaína', 7)\n",
      "(8, 'Manaus', 8)\n",
      "(9, 'Caruaru', 5)\n",
      "(10, 'Porto Velho', 9)\n",
      "(11, 'Planaltina', 10)\n",
      "(12, 'Santa Cruz do Sul', 11)\n",
      "(13, 'Porto Alegre', 11)\n",
      "(14, 'Carpina', 5)\n",
      "(15, 'Boa Vista', 12)\n",
      "(16, 'Imperatriz', 13)\n",
      "(17, 'São Luís', 13)\n",
      "(18, 'Cacoal', 9)\n",
      "(19, 'Cariacica', 14)\n",
      "(20, 'Parnaíba', 15)\n",
      "(21, 'Santana', 2)\n",
      "(22, 'Ponta Grossa', 16)\n",
      "(23, 'Arapiraca', 17)\n",
      "(24, 'Águas Lindas de Goiás', 10)\n",
      "(25, 'Cianorte', 16)\n",
      "(26, 'Aracaju', 18)\n",
      "(27, 'Belém', 19)\n",
      "(28, 'Jataí', 10)\n",
      "(29, 'Várzea Grande', 4)\n",
      "(30, 'Maceió', 17)\n",
      "(31, 'Salvador', 20)\n",
      "(32, 'Macaé', 21)\n",
      "(33, 'Cuiabá', 4)\n",
      "(34, 'Santa Luzia do Itanhy', 18)\n",
      "(35, 'João Pessoa', 22)\n",
      "(36, 'Brusque', 23)\n",
      "(37, 'Rio Grande', 11)\n",
      "(38, 'Juazeiro do Norte', 24)\n",
      "(39, 'Natal', 25)\n",
      "(40, 'Londrina', 16)\n"
     ]
    }
   ],
   "source": [
    "# Inserindo os dados na tabela tb_cidade:\n",
    "query_cidade = \"INSERT INTO tb_cidade (id, nome, id_estado) VALUES (%s, %s, %s)\"\n",
    "\n",
    "for i in range(0, len(cidade_df)):\n",
    "    data_cidade = (int(cidade_df.cidade_id.iloc[i]), cidade_df.cidade.iloc[i], int(cidade_df.estado_id.iloc[i]))\n",
    "    print(data_cidade)\n",
    "    mycursor.execute(query_cidade, data_cidade)\n",
    "    \n",
    "mydb.commit()"
   ]
  },
  {
   "cell_type": "code",
   "execution_count": 27,
   "metadata": {},
   "outputs": [],
   "source": [
    "# Transformando o caracter ',' em '.' na variável altura:\n",
    "for i in range(0, len(content_df)):\n",
    "    content_df.altura.iloc[i] = content_df.altura.iloc[i].replace(',', '.')"
   ]
  },
  {
   "cell_type": "code",
   "execution_count": 28,
   "metadata": {},
   "outputs": [],
   "source": [
    "# Transformando a variável sexo para \"M\" e \"F\":\n",
    "for i in range(0, len(content_df)):\n",
    "    if content_df.sexo.iloc[i] == 'Masculino':\n",
    "        content_df.sexo.iloc[i] = 'M'\n",
    "    else:\n",
    "        content_df.sexo.iloc[i] = 'F'"
   ]
  },
  {
   "cell_type": "code",
   "execution_count": 29,
   "metadata": {},
   "outputs": [
    {
     "name": "stdout",
     "output_type": "stream",
     "text": [
      "('Silvana Hadassa', 56, '1964-12-06', 'F', 'Gêmeos', 1.67, 50.0, 0, 0, 0)\n",
      "('Thales Kaique', 27, '1993-10-12', 'M', 'Sagitário', 1.63, 110.0, 1, 1, 1)\n",
      "('Henry Nathan', 29, '1991-09-21', 'M', 'Virgem', 1.86, 106.0, 2, 2, 2)\n",
      "('Lorenzo Vinicius', 64, '1956-10-22', 'M', 'Libra', 1.87, 100.0, 3, 0, 3)\n",
      "('Cauã Henrique', 50, '1970-09-03', 'M', 'Peixes', 1.74, 83.0, 4, 0, 4)\n",
      "('Francisco Thomas', 19, '2001-12-04', 'M', 'Áries', 1.91, 64.0, 5, 3, 2)\n",
      "('Bianca Flávia', 71, '1949-01-23', 'F', 'Aquário', 1.54, 76.0, 1, 0, 5)\n",
      "('Arthur Filipe', 33, '1987-12-23', 'M', 'Capricórnio', 1.91, 54.0, 6, 4, 2)\n",
      "('Teresinha Jaqueline', 52, '1968-10-20', 'F', 'Libra', 1.84, 59.0, 7, 0, 2)\n",
      "('Manuel Luís', 50, '1970-12-05', 'M', 'Touro', 1.81, 85.0, 8, 4, 6)\n",
      "('Jorge Nicolas', 52, '1968-11-07', 'M', 'Câncer', 1.87, 54.0, 9, 4, 2)\n",
      "('Ricardo Paulo', 37, '1983-12-16', 'M', 'Sagitário', 1.86, 52.0, 10, 0, 1)\n",
      "('Gustavo Joaquim', 61, '1959-07-01', 'M', 'Capricórnio', 1.62, 106.0, 2, 2, 0)\n",
      "('Isabel Yasmin', 50, '1970-06-22', 'F', 'Câncer', 1.64, 53.0, 8, 5, 5)\n",
      "('Daniel Lucca', 21, '1999-01-22', 'M', 'Aquário', 1.84, 105.0, 11, 2, 0)\n",
      "('Benício Guilherme', 37, '1983-09-02', 'M', 'Aquário', 1.63, 95.0, 4, 1, 4)\n",
      "('João Pedro', 18, '2002-08-05', 'M', 'Touro', 1.95, 57.0, 12, 3, 7)\n",
      "('Sandra Milena', 31, '1989-07-16', 'F', 'Câncer', 1.7, 84.0, 13, 2, 2)\n",
      "('Antonio Sérgio', 49, '1971-04-15', 'M', 'Áries', 1.65, 71.0, 14, 5, 3)\n",
      "('Arthur Sérgio', 76, '1944-01-20', 'M', 'Capricórnio', 1.97, 51.0, 15, 3, 2)\n",
      "('Larissa Esther', 37, '1983-10-03', 'F', 'Peixes', 1.68, 69.0, 16, 2, 2)\n",
      "('Thales Bento', 78, '1942-04-18', 'M', 'Áries', 1.95, 64.0, 17, 0, 0)\n",
      "('Breno Rafael', 58, '1962-09-01', 'M', 'Capricórnio', 1.94, 108.0, 18, 3, 0)\n",
      "('Tiago Gael', 24, '1996-07-17', 'M', 'Câncer', 1.68, 58.0, 19, 5, 0)\n",
      "('Carolina Márcia', 61, '1959-11-25', 'F', 'Sagitário', 1.5, 45.0, 20, 3, 7)\n",
      "('Levi Sérgio', 71, '1949-08-21', 'M', 'Leão', 1.83, 68.0, 21, 0, 2)\n",
      "('Juan Theo', 39, '1981-09-11', 'M', 'Escorpião', 1.67, 77.0, 22, 2, 7)\n",
      "('Rafael Ryan', 70, '1950-10-01', 'M', 'Capricórnio', 1.98, 85.0, 23, 1, 4)\n",
      "('Malu Emilly', 70, '1950-04-07', 'F', 'Câncer', 1.62, 48.0, 24, 0, 7)\n",
      "('Alice Bárbara', 78, '1942-09-10', 'F', 'Libra', 1.78, 80.0, 25, 1, 5)\n",
      "('Martin Edson', 35, '1985-01-15', 'M', 'Capricórnio', 1.6, 59.0, 26, 1, 6)\n",
      "('Danilo Jorge', 38, '1982-08-25', 'M', 'Virgem', 1.79, 87.0, 4, 3, 5)\n",
      "('Isadora Sueli', 21, '1999-03-07', 'F', 'Câncer', 1.59, 88.0, 27, 2, 5)\n",
      "('Maya Tatiane', 27, '1993-12-27', 'F', 'Capricórnio', 1.83, 89.0, 26, 4, 2)\n",
      "('Bruno Manuel', 57, '1963-09-14', 'M', 'Virgem', 1.6, 92.0, 28, 5, 3)\n",
      "('Gabriel Luan', 66, '1954-12-20', 'M', 'Sagitário', 1.71, 93.0, 15, 0, 2)\n",
      "('Henry Elias', 57, '1963-04-26', 'M', 'Touro', 1.83, 103.0, 29, 0, 5)\n",
      "('Marcela Laura', 56, '1964-11-17', 'F', 'Escorpião', 1.52, 79.0, 30, 2, 6)\n",
      "('Amanda Luna', 59, '1961-12-22', 'F', 'Capricórnio', 1.67, 55.0, 31, 6, 4)\n",
      "('Caio Ricardo', 47, '1973-07-09', 'M', 'Virgem', 1.61, 97.0, 15, 4, 6)\n",
      "('Mariane Sabrina', 52, '1968-02-27', 'F', 'Peixes', 1.67, 70.0, 32, 0, 0)\n",
      "('Juliana Vanessa', 37, '1983-04-27', 'F', 'Touro', 1.51, 67.0, 8, 4, 2)\n",
      "('Milena Rosângela', 31, '1989-11-02', 'F', 'Aquário', 1.58, 88.0, 2, 5, 1)\n",
      "('Osvaldo Augusto', 41, '1979-04-15', 'M', 'Áries', 1.79, 107.0, 33, 3, 6)\n",
      "('Nathan Igor', 57, '1963-10-17', 'M', 'Libra', 1.86, 91.0, 34, 0, 1)\n",
      "('Letícia Patrícia', 76, '1944-07-11', 'F', 'Escorpião', 1.62, 64.0, 35, 1, 2)\n",
      "('Sophia Andrea', 35, '1985-07-23', 'F', 'Leão', 1.63, 47.0, 8, 1, 5)\n",
      "('Aurora Lúcia', 72, '1948-01-19', 'F', 'Capricórnio', 1.57, 73.0, 20, 6, 6)\n",
      "('Bruna Teresinha', 42, '1978-04-25', 'F', 'Touro', 1.7, 77.0, 36, 2, 6)\n",
      "('Erick Victor', 52, '1968-08-10', 'M', 'Libra', 1.68, 104.0, 31, 1, 7)\n",
      "('Gabrielly Stella', 39, '1981-10-16', 'F', 'Libra', 1.77, 70.0, 1, 6, 6)\n",
      "('Osvaldo Vitor', 46, '1974-06-05', 'M', 'Touro', 1.67, 74.0, 8, 0, 4)\n",
      "('Alana Kamilly', 33, '1987-12-01', 'F', 'Capricórnio', 1.59, 88.0, 15, 6, 1)\n",
      "('Bryan Kaique', 62, '1958-06-19', 'M', 'Gêmeos', 1.62, 110.0, 26, 0, 7)\n",
      "('Benedito Renato', 33, '1987-08-10', 'M', 'Libra', 1.88, 81.0, 37, 1, 7)\n",
      "('Kaique Isaac', 49, '1971-12-16', 'M', 'Sagitário', 1.89, 100.0, 38, 3, 3)\n",
      "('Luiz Benjamin', 52, '1968-03-07', 'M', 'Câncer', 1.84, 77.0, 39, 2, 2)\n",
      "('Fábio Roberto', 75, '1945-12-24', 'M', 'Capricórnio', 2.0, 56.0, 40, 6, 0)\n",
      "('Evelyn Julia', 42, '1978-01-18', 'F', 'Capricórnio', 1.79, 51.0, 26, 0, 1)\n",
      "('Otávio Cláudio', 32, '1988-04-01', 'M', 'Capricórnio', 1.72, 99.0, 16, 5, 5)\n"
     ]
    }
   ],
   "source": [
    "# Inserindo os dados na tabela tb_pessoa:\n",
    "query_pessoa = \"INSERT INTO tb_pessoa (nome, idade, data_nasc, sexo, signo, altura, peso, id_cidade, id_cor, id_tiposanguineo)\\\n",
    "                VALUES (%s, %s, %s, %s, %s, %s, %s, %s, %s, %s)\"\n",
    "\n",
    "for i in range(0, len(content_df)):\n",
    "    data_pessoa = (content_df.nome.iloc[i], int(content_df.idade.iloc[i]), content_df.data_nasc.iloc[i], \n",
    "                   content_df.sexo.iloc[i], content_df.signo.iloc[i], float(content_df.altura.iloc[i]), \n",
    "                   float(content_df.peso.iloc[i]), int(content_df.cidade_id.iloc[i]), int(content_df.cor_id.iloc[i]), \n",
    "                   int(content_df.tipo_sanguineo_id.iloc[i]))\n",
    "    print(data_pessoa)\n",
    "    mycursor.execute(query_pessoa, data_pessoa)\n",
    "    \n",
    "mydb.commit()"
   ]
  },
  {
   "cell_type": "markdown",
   "metadata": {},
   "source": [
    "<h1>Consultando o Banco de Dados</h1>"
   ]
  },
  {
   "cell_type": "code",
   "execution_count": 30,
   "metadata": {},
   "outputs": [
    {
     "name": "stdout",
     "output_type": "stream",
     "text": [
      "(30,)\n"
     ]
    }
   ],
   "source": [
    "# Quantas pessoas possuem 50 ou mais anos de idade?\n",
    "q1 = (\"SELECT count(*) FROM tb_pessoa WHERE idade >= 50\")\n",
    "mycursor.execute(q1)\n",
    "\n",
    "answ_1 = mycursor.fetchall()\n",
    "for i in answ_1:\n",
    "    print(i)"
   ]
  },
  {
   "cell_type": "code",
   "execution_count": 31,
   "metadata": {},
   "outputs": [
    {
     "name": "stdout",
     "output_type": "stream",
     "text": [
      "('MT', Decimal('44.6000'))\n"
     ]
    }
   ],
   "source": [
    "# Qual é a média de idade das pessoas que moram em Mato Grosso?\n",
    "q2 = (\"SELECT sigla, avg(idade) FROM tb_pessoa \\\n",
    "        INNER JOIN tb_cidade ON tb_pessoa.id_cidade = tb_cidade.id \\\n",
    "        INNER JOIN tb_estado ON tb_cidade.id_estado = tb_estado.id \\\n",
    "        WHERE sigla = 'MT'\")\n",
    "mycursor.execute(q2)\n",
    "\n",
    "answ_2 = mycursor.fetchall()\n",
    "for i in answ_2:\n",
    "    print(i)"
   ]
  },
  {
   "cell_type": "code",
   "execution_count": 32,
   "metadata": {},
   "outputs": [
    {
     "name": "stdout",
     "output_type": "stream",
     "text": [
      "(14,)\n"
     ]
    }
   ],
   "source": [
    "# Quantas pessoas nasceram nos anos de 1968 a 1978?\n",
    "q3 = (\"SELECT count(*) FROM tb_pessoa \\\n",
    "        WHERE YEAR(data_nasc) BETWEEN 1968 AND 1978\")\n",
    "mycursor.execute(q3)\n",
    "\n",
    "answ_3 = mycursor.fetchall()\n",
    "for i in answ_3:\n",
    "    print(i)"
   ]
  },
  {
   "cell_type": "code",
   "execution_count": 33,
   "metadata": {},
   "outputs": [
    {
     "name": "stdout",
     "output_type": "stream",
     "text": [
      "('Thales Bento', 78)\n"
     ]
    }
   ],
   "source": [
    "# Qual é o nome da pessoa mais velha na base de dados?\n",
    "q4 = (\"SELECT nome, idade FROM tb_pessoa \\\n",
    "        WHERE data_nasc = (SELECT MIN(data_nasc) FROM tb_pessoa)\")\n",
    "mycursor.execute(q4)\n",
    "\n",
    "answ_4 = mycursor.fetchall()\n",
    "for i in answ_4:\n",
    "    print(i)"
   ]
  },
  {
   "cell_type": "code",
   "execution_count": 34,
   "metadata": {},
   "outputs": [
    {
     "name": "stdout",
     "output_type": "stream",
     "text": [
      "('João Pedro', 18)\n"
     ]
    }
   ],
   "source": [
    "# Qual é o nome da pessoa mais nova na base de dados?\n",
    "q5 = (\"SELECT nome, idade FROM tb_pessoa \\\n",
    "        WHERE data_nasc = (SELECT MAX(data_nasc) FROM tb_pessoa)\")\n",
    "mycursor.execute(q5)\n",
    "\n",
    "answ_5 = mycursor.fetchall()\n",
    "for i in answ_5:\n",
    "    print(i)"
   ]
  },
  {
   "cell_type": "code",
   "execution_count": 35,
   "metadata": {},
   "outputs": [],
   "source": [
    "mydb.close()"
   ]
  }
 ],
 "metadata": {
  "kernelspec": {
   "display_name": "Python 3",
   "language": "python",
   "name": "python3"
  },
  "language_info": {
   "codemirror_mode": {
    "name": "ipython",
    "version": 3
   },
   "file_extension": ".py",
   "mimetype": "text/x-python",
   "name": "python",
   "nbconvert_exporter": "python",
   "pygments_lexer": "ipython3",
   "version": "3.7.7"
  }
 },
 "nbformat": 4,
 "nbformat_minor": 4
}
